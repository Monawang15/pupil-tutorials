{
 "cells": [
  {
   "cell_type": "markdown",
   "metadata": {},
   "source": [
    "# Tutorial 10 - Applying fixation and blink detection results to gaze data\n",
    "In this tutorial we will look at how to apply fixation and blink detection results\n",
    "to exported gaze data. Afterward, we will know for each exported gaze sample if it\n",
    "belongs to a fixation and/or a blink.\n",
    "\n",
    "We will follow these steps:\n",
    "1. Load the data using `Pandas`\n",
    "1. For each fixation and blink, find and annotate the corresponding gaze data\n",
    "    1. Select the start and end timestamp of the corresponding detection\n",
    "    1. Find all gaze samples whose timestamps fall into that period\n",
    "    1. Mark these gaze samples accordingly\n",
    "1. Visualize the results\n",
    "\n",
    "Please check the documentation of [Pupil Player](https://docs.pupil-labs.com/#pupil-player)\n",
    "on how to detect blinks an fixations and how to export data.\n",
    "\n",
    "This notebook is accompanied by a short example export. You can find it in the `data/10_apply_fixation_and_blink_detection_to_gaze` subfolder which contains the three files\n",
    "that are important for this tutorial:\n",
    "\n",
    "- `gaze_positions.csv`\n",
    "- `blinks.csv`\n",
    "- `fixations.csv`\n",
    "\n",
    "## 1 - Loading Exported Data\n",
    "Let's start by importing the necessary Python modules and loading the exported data."
   ]
  },
  {
   "cell_type": "code",
   "execution_count": 1,
   "metadata": {},
   "outputs": [],
   "source": [
    "import pandas as pd\n",
    "import seaborn as sns\n",
    "\n",
    "sns.set()\n"
   ]
  },
  {
   "cell_type": "code",
   "execution_count": 2,
   "metadata": {},
   "outputs": [],
   "source": [
    "export_folder = \"data/10_apply_fixation_and_blink_detection_to_gaze/\"\n",
    "gaze = pd.read_csv(export_folder + \"gaze_positions.csv\")\n",
    "blinks = pd.read_csv(export_folder + \"blinks.csv\")\n",
    "fixations = pd.read_csv(export_folder + \"fixations.csv\")\n"
   ]
  },
  {
   "cell_type": "markdown",
   "metadata": {},
   "source": [
    "### Gaze data\n",
    "\n",
    "You can find information on how the exported gaze data looks like in our previous tutorials.\n",
    "Below, we only preview the data that is necessary for the blink and fixation matching:\n",
    "The `gaze_timestamp` field."
   ]
  },
  {
   "cell_type": "code",
   "execution_count": 3,
   "metadata": {},
   "outputs": [
    {
     "data": {
      "text/plain": [
       "0    329367.897894\n",
       "1    329367.905404\n",
       "2    329367.907907\n",
       "Name: gaze_timestamp, dtype: float64"
      ]
     },
     "execution_count": 3,
     "metadata": {},
     "output_type": "execute_result"
    }
   ],
   "source": [
    "gaze[\"gaze_timestamp\"].head(3)  # .head(n): only display the first n entries\n"
   ]
  },
  {
   "cell_type": "markdown",
   "metadata": {},
   "source": [
    "### Blink data\n",
    "\n",
    "The exported section contains three blinks of which we will need the `id`,\n",
    "`start_timestamp`, and `end_timestamp`.\n",
    "\n",
    "**Note**: The blink ids do not start at 0 or 1 because the exported data only represents\n",
    "a short slice of a longer recording."
   ]
  },
  {
   "cell_type": "code",
   "execution_count": 4,
   "metadata": {},
   "outputs": [
    {
     "data": {
      "text/html": [
       "<div>\n",
       "<style scoped>\n",
       "    .dataframe tbody tr th:only-of-type {\n",
       "        vertical-align: middle;\n",
       "    }\n",
       "\n",
       "    .dataframe tbody tr th {\n",
       "        vertical-align: top;\n",
       "    }\n",
       "\n",
       "    .dataframe thead th {\n",
       "        text-align: right;\n",
       "    }\n",
       "</style>\n",
       "<table border=\"1\" class=\"dataframe\">\n",
       "  <thead>\n",
       "    <tr style=\"text-align: right;\">\n",
       "      <th></th>\n",
       "      <th>id</th>\n",
       "      <th>start_timestamp</th>\n",
       "      <th>end_timestamp</th>\n",
       "    </tr>\n",
       "  </thead>\n",
       "  <tbody>\n",
       "    <tr>\n",
       "      <th>0</th>\n",
       "      <td>5</td>\n",
       "      <td>329368.551824</td>\n",
       "      <td>329368.927313</td>\n",
       "    </tr>\n",
       "    <tr>\n",
       "      <th>1</th>\n",
       "      <td>6</td>\n",
       "      <td>329372.045221</td>\n",
       "      <td>329372.495808</td>\n",
       "    </tr>\n",
       "    <tr>\n",
       "      <th>2</th>\n",
       "      <td>7</td>\n",
       "      <td>329373.668492</td>\n",
       "      <td>329374.104060</td>\n",
       "    </tr>\n",
       "  </tbody>\n",
       "</table>\n",
       "</div>"
      ],
      "text/plain": [
       "   id  start_timestamp  end_timestamp\n",
       "0   5    329368.551824  329368.927313\n",
       "1   6    329372.045221  329372.495808\n",
       "2   7    329373.668492  329374.104060"
      ]
     },
     "execution_count": 4,
     "metadata": {},
     "output_type": "execute_result"
    }
   ],
   "source": [
    "blinks[[\"id\", \"start_timestamp\", \"end_timestamp\"]]  # only display the desired columns\n"
   ]
  },
  {
   "cell_type": "markdown",
   "metadata": {},
   "source": [
    "### Fixation data\n",
    "\n",
    "In contrast to the blinks, the exported fixations do not have an `end_timestamp` field.\n",
    "We can calculate the corresponding values by summing the `start_timestamp` and `duration`\n",
    "values.\n",
    "\n",
    "**Note**: `duration` is in milliseconds."
   ]
  },
  {
   "cell_type": "code",
   "execution_count": 5,
   "metadata": {},
   "outputs": [
    {
     "data": {
      "text/html": [
       "<div>\n",
       "<style scoped>\n",
       "    .dataframe tbody tr th:only-of-type {\n",
       "        vertical-align: middle;\n",
       "    }\n",
       "\n",
       "    .dataframe tbody tr th {\n",
       "        vertical-align: top;\n",
       "    }\n",
       "\n",
       "    .dataframe thead th {\n",
       "        text-align: right;\n",
       "    }\n",
       "</style>\n",
       "<table border=\"1\" class=\"dataframe\">\n",
       "  <thead>\n",
       "    <tr style=\"text-align: right;\">\n",
       "      <th></th>\n",
       "      <th>id</th>\n",
       "      <th>start_timestamp</th>\n",
       "      <th>duration</th>\n",
       "    </tr>\n",
       "  </thead>\n",
       "  <tbody>\n",
       "    <tr>\n",
       "      <th>0</th>\n",
       "      <td>65</td>\n",
       "      <td>329367.872861</td>\n",
       "      <td>202.7645</td>\n",
       "    </tr>\n",
       "    <tr>\n",
       "      <th>1</th>\n",
       "      <td>66</td>\n",
       "      <td>329368.078129</td>\n",
       "      <td>172.7250</td>\n",
       "    </tr>\n",
       "    <tr>\n",
       "      <th>2</th>\n",
       "      <td>67</td>\n",
       "      <td>329368.308429</td>\n",
       "      <td>172.7250</td>\n",
       "    </tr>\n",
       "  </tbody>\n",
       "</table>\n",
       "</div>"
      ],
      "text/plain": [
       "   id  start_timestamp  duration\n",
       "0  65    329367.872861  202.7645\n",
       "1  66    329368.078129  172.7250\n",
       "2  67    329368.308429  172.7250"
      ]
     },
     "execution_count": 5,
     "metadata": {},
     "output_type": "execute_result"
    }
   ],
   "source": [
    "fixations[[\"id\", \"start_timestamp\", \"duration\"]].head(3)\n"
   ]
  },
  {
   "cell_type": "code",
   "execution_count": 6,
   "metadata": {},
   "outputs": [
    {
     "data": {
      "text/html": [
       "<div>\n",
       "<style scoped>\n",
       "    .dataframe tbody tr th:only-of-type {\n",
       "        vertical-align: middle;\n",
       "    }\n",
       "\n",
       "    .dataframe tbody tr th {\n",
       "        vertical-align: top;\n",
       "    }\n",
       "\n",
       "    .dataframe thead th {\n",
       "        text-align: right;\n",
       "    }\n",
       "</style>\n",
       "<table border=\"1\" class=\"dataframe\">\n",
       "  <thead>\n",
       "    <tr style=\"text-align: right;\">\n",
       "      <th></th>\n",
       "      <th>id</th>\n",
       "      <th>start_timestamp</th>\n",
       "      <th>end_timestamp</th>\n",
       "    </tr>\n",
       "  </thead>\n",
       "  <tbody>\n",
       "    <tr>\n",
       "      <th>0</th>\n",
       "      <td>65</td>\n",
       "      <td>329367.872861</td>\n",
       "      <td>329368.075625</td>\n",
       "    </tr>\n",
       "    <tr>\n",
       "      <th>1</th>\n",
       "      <td>66</td>\n",
       "      <td>329368.078129</td>\n",
       "      <td>329368.250853</td>\n",
       "    </tr>\n",
       "    <tr>\n",
       "      <th>2</th>\n",
       "      <td>67</td>\n",
       "      <td>329368.308429</td>\n",
       "      <td>329368.481154</td>\n",
       "    </tr>\n",
       "  </tbody>\n",
       "</table>\n",
       "</div>"
      ],
      "text/plain": [
       "   id  start_timestamp  end_timestamp\n",
       "0  65    329367.872861  329368.075625\n",
       "1  66    329368.078129  329368.250853\n",
       "2  67    329368.308429  329368.481154"
      ]
     },
     "execution_count": 6,
     "metadata": {},
     "output_type": "execute_result"
    }
   ],
   "source": [
    "fixations[\"end_timestamp\"] = fixations.start_timestamp + fixations.duration / 1_000\n",
    "\n",
    "fixations[[\"id\", \"start_timestamp\", \"end_timestamp\"]].head(3)  # display result\n"
   ]
  },
  {
   "cell_type": "markdown",
   "metadata": {},
   "source": [
    "## 2 - Find gaze data for each fixation and blink\n",
    "\n",
    "We will save the matching blink and fixation ids for each gaze sample in a dedicated\n",
    "column. To start, we set this column to `None` to indicate that the samples are neither\n",
    "a blink nor a fixation."
   ]
  },
  {
   "cell_type": "code",
   "execution_count": 28,
   "metadata": {},
   "outputs": [],
   "source": [
    "gaze[\"blink_id\"] = None\n",
    "gaze[\"fixation_id\"] = None\n"
   ]
  },
  {
   "cell_type": "markdown",
   "metadata": {},
   "source": [
    "Next, we iterate over all blinks and fixations, extract their start and end timestamps,\n",
    "and find the corresponding gaze samples.\n",
    "\n",
    "For this, we use [`pandas.Series.between()`](https://pandas.pydata.org/pandas-docs/stable/reference/api/pandas.Series.between.html)."
   ]
  },
  {
   "cell_type": "code",
   "execution_count": 29,
   "metadata": {},
   "outputs": [
    {
     "name": "stdout",
     "output_type": "stream",
     "text": [
      "Found 124 gaze samples for blink 5\n",
      "Found 121 gaze samples for blink 6\n",
      "Found 117 gaze samples for blink 7\n"
     ]
    }
   ],
   "source": [
    "for blink in blinks.itertuples():\n",
    "    # https://pandas.pydata.org/pandas-docs/stable/reference/api/pandas.Series.between.html\n",
    "    # Return boolean Series equivalent to left <= series <= right.\n",
    "    # `found_sample_mask` has the size as `gaze` and is True for all gaze samples\n",
    "    # whose `gaze_timestamp` lies between the blink start end end time.\n",
    "    found_sample_mask = gaze.gaze_timestamp.between(\n",
    "        blink.start_timestamp, blink.end_timestamp\n",
    "    )\n",
    "    gaze.loc[found_sample_mask, \"blink_id\"] = blink.id\n",
    "\n",
    "    # To count the found samples, we sum the boolean values (True = 1, False = 0).\n",
    "    num_samples = found_sample_mask.sum()\n",
    "    print(f\"Found {num_samples} gaze samples for blink {blink.id}\")\n"
   ]
  },
  {
   "cell_type": "code",
   "execution_count": 30,
   "metadata": {},
   "outputs": [],
   "source": [
    "for fixation in fixations.itertuples():\n",
    "    # Here we repeat the procedure\n",
    "    found_sample_mask = gaze.gaze_timestamp.between(\n",
    "        fixation.start_timestamp, fixation.end_timestamp\n",
    "    )\n",
    "    gaze.loc[found_sample_mask, \"fixation_id\"] = fixation.id\n"
   ]
  },
  {
   "cell_type": "markdown",
   "metadata": {},
   "source": [
    "## 3 - Visualize results"
   ]
  },
  {
   "cell_type": "markdown",
   "metadata": {},
   "source": [
    "### Blinks"
   ]
  },
  {
   "cell_type": "code",
   "execution_count": 37,
   "metadata": {},
   "outputs": [
    {
     "data": {
      "text/plain": [
       "<seaborn.axisgrid.FacetGrid at 0x14b21c0d0>"
      ]
     },
     "execution_count": 37,
     "metadata": {},
     "output_type": "execute_result"
    },
    {
     "data": {
      "image/png": "[encoded data removed]",
      "text/plain": [
       "<Figure size 720x360 with 1 Axes>"
      ]
     },
     "metadata": {},
     "output_type": "display_data"
    }
   ],
   "source": [
    "sns.relplot(data=gaze, x=\"gaze_timestamp\", y=\"blink_id\", aspect=2)\n"
   ]
  },
  {
   "cell_type": "markdown",
   "metadata": {},
   "source": [
    "### Fixations"
   ]
  },
  {
   "cell_type": "code",
   "execution_count": 34,
   "metadata": {},
   "outputs": [
    {
     "data": {
      "text/plain": [
       "<seaborn.axisgrid.FacetGrid at 0x14accd970>"
      ]
     },
     "execution_count": 34,
     "metadata": {},
     "output_type": "execute_result"
    },
    {
     "data": {
      "image/png": "[encoded data removed]",
      "text/plain": [
       "<Figure size 720x360 with 1 Axes>"
      ]
     },
     "metadata": {},
     "output_type": "display_data"
    }
   ],
   "source": [
    "sns.relplot(data=gaze, x=\"gaze_timestamp\", y=\"fixation_id\", aspect=2)\n"
   ]
  },
  {
   "cell_type": "code",
   "execution_count": null,
   "metadata": {},
   "outputs": [],
   "source": []
  }
 ],
 "metadata": {
  "interpreter": {
   "hash": "949d465c8a19e81b16f08f10c49754b1fda564991086691d4389bb1865107ba8"
  },
  "kernelspec": {
   "display_name": "Python 3.9.7 ('.venv39': venv)",
   "language": "python",
   "name": "python3"
  },
  "language_info": {
   "codemirror_mode": {
    "name": "ipython",
    "version": 3
   },
   "file_extension": ".py",
   "mimetype": "text/x-python",
   "name": "python",
   "nbconvert_exporter": "python",
   "pygments_lexer": "ipython3",
   "version": "3.9.7"
  },
  "orig_nbformat": 4
 },
 "nbformat": 4,
 "nbformat_minor": 2
}
